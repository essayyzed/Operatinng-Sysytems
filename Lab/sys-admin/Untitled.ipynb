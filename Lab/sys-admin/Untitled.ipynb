{
 "cells": [
  {
   "cell_type": "markdown",
   "metadata": {},
   "source": [
    "# The Basic Building Blocks"
   ]
  },
  {
   "cell_type": "code",
   "execution_count": 3,
   "metadata": {},
   "outputs": [
    {
     "data": {
      "text/plain": [
       "'0b1001110'"
      ]
     },
     "execution_count": 3,
     "metadata": {},
     "output_type": "execute_result"
    }
   ],
   "source": [
    "bin(78) #convert no. to binary"
   ]
  },
  {
   "cell_type": "markdown",
   "metadata": {},
   "source": [
    "### Exclusive OR"
   ]
  },
  {
   "cell_type": "code",
   "execution_count": 4,
   "metadata": {},
   "outputs": [
    {
     "data": {
      "text/plain": [
       "'0b0'"
      ]
     },
     "execution_count": 4,
     "metadata": {},
     "output_type": "execute_result"
    }
   ],
   "source": [
    "bin(0b1111 ^ 0b1111)"
   ]
  },
  {
   "cell_type": "code",
   "execution_count": 15,
   "metadata": {
    "slideshow": {
     "slide_type": "-"
    }
   },
   "outputs": [
    {
     "data": {
      "text/plain": [
       "'0b1'"
      ]
     },
     "execution_count": 15,
     "metadata": {},
     "output_type": "execute_result"
    }
   ],
   "source": [
    "bin(0b1111 ^ 0b1110)"
   ]
  },
  {
   "cell_type": "code",
   "execution_count": 6,
   "metadata": {},
   "outputs": [
    {
     "data": {
      "text/plain": [
       "'0b11'"
      ]
     },
     "execution_count": 6,
     "metadata": {},
     "output_type": "execute_result"
    }
   ],
   "source": [
    "bin(0b1111 ^ 0b1100)"
   ]
  },
  {
   "cell_type": "code",
   "execution_count": 9,
   "metadata": {},
   "outputs": [
    {
     "data": {
      "text/plain": [
       "'0b1111'"
      ]
     },
     "execution_count": 9,
     "metadata": {},
     "output_type": "execute_result"
    }
   ],
   "source": [
    "bin(0b1111 ^ 0b0000)"
   ]
  },
  {
   "cell_type": "markdown",
   "metadata": {},
   "source": [
    "#### Getting Unicode Representation"
   ]
  },
  {
   "cell_type": "code",
   "execution_count": 14,
   "metadata": {},
   "outputs": [
    {
     "data": {
      "text/plain": [
       "65"
      ]
     },
     "execution_count": 14,
     "metadata": {},
     "output_type": "execute_result"
    }
   ],
   "source": [
    "ord('A')"
   ]
  },
  {
   "cell_type": "code",
   "execution_count": 16,
   "metadata": {},
   "outputs": [
    {
     "data": {
      "text/plain": [
       "226"
      ]
     },
     "execution_count": 16,
     "metadata": {},
     "output_type": "execute_result"
    }
   ],
   "source": [
    "ord('â')"
   ]
  },
  {
   "cell_type": "code",
   "execution_count": 17,
   "metadata": {},
   "outputs": [
    {
     "name": "stdout",
     "output_type": "stream",
     "text": [
      "12\n",
      "12\n"
     ]
    }
   ],
   "source": [
    "# don't actually need to convert to binary to do XOR\n",
    "\n",
    "print(0b1111 ^ 0b0011)\n",
    "print(15 ^ 3)"
   ]
  },
  {
   "cell_type": "code",
   "execution_count": 18,
   "metadata": {},
   "outputs": [
    {
     "name": "stdout",
     "output_type": "stream",
     "text": [
      "0b0\n"
     ]
    }
   ],
   "source": [
    "# if you XOR the no. with itself, you get the orginal no. back\n",
    "print(bin(0b1111 ^ 0b1111))"
   ]
  },
  {
   "cell_type": "code",
   "execution_count": 20,
   "metadata": {},
   "outputs": [
    {
     "name": "stdout",
     "output_type": "stream",
     "text": [
      "0b1100\n",
      "0b1010\n"
     ]
    }
   ],
   "source": [
    "# if you XOR with the same thing twice,\n",
    "# you get the orginal back\n",
    "\n",
    "r1 = 0b1010 ^ 0b0110\n",
    "print(bin(r1))\n",
    "\n",
    "r2 = r1 ^ 0b0110\n",
    "print(bin(r2))"
   ]
  },
  {
   "cell_type": "markdown",
   "metadata": {},
   "source": [
    "# Building XOR-Based CRYPTO"
   ]
  },
  {
   "cell_type": "code",
   "execution_count": 27,
   "metadata": {},
   "outputs": [],
   "source": [
    "# message = \"Hello, I am hiding in the bunker, Come get me, Please\""
   ]
  },
  {
   "cell_type": "code",
   "execution_count": 33,
   "metadata": {},
   "outputs": [
    {
     "name": "stdout",
     "output_type": "stream",
     "text": [
      "72\n",
      "101\n",
      "108\n",
      "108\n",
      "111\n"
     ]
    }
   ],
   "source": [
    "for c in message[:5]:\n",
    "    print(ord(c))"
   ]
  },
  {
   "cell_type": "code",
   "execution_count": 34,
   "metadata": {},
   "outputs": [
    {
     "data": {
      "text/plain": [
       "'H'"
      ]
     },
     "execution_count": 34,
     "metadata": {},
     "output_type": "execute_result"
    }
   ],
   "source": [
    "chr(72)"
   ]
  },
  {
   "cell_type": "code",
   "execution_count": 35,
   "metadata": {},
   "outputs": [],
   "source": [
    "key = 0b10101010"
   ]
  },
  {
   "cell_type": "code",
   "execution_count": 36,
   "metadata": {},
   "outputs": [
    {
     "data": {
      "text/plain": [
       "170"
      ]
     },
     "execution_count": 36,
     "metadata": {},
     "output_type": "execute_result"
    }
   ],
   "source": [
    "int(key)"
   ]
  },
  {
   "cell_type": "markdown",
   "metadata": {},
   "source": [
    "# Lets do the Encryption"
   ]
  },
  {
   "cell_type": "code",
   "execution_count": 37,
   "metadata": {},
   "outputs": [],
   "source": [
    "message = message = \"Hello, I am hiding in the bunker, Come get me, Please\""
   ]
  },
  {
   "cell_type": "code",
   "execution_count": 39,
   "metadata": {},
   "outputs": [],
   "source": [
    "def encrypt(msg , key):\n",
    "    encrypted_message = \"\"\n",
    "    \n",
    "    for c in msg:    # each character gets Encrypted Separately\n",
    "        \n",
    "        c_bin = ord(c)\n",
    "        c_encrypted = c_bin ^ key\n",
    "        c_encrypted = chr(c_encrypted)\n",
    "        \n",
    "        encrypted_message += c_encrypted\n",
    "    \n",
    "    return encrypted_message"
   ]
  },
  {
   "cell_type": "code",
   "execution_count": 41,
   "metadata": {},
   "outputs": [],
   "source": [
    "key = 170\n",
    "cypher_text = encrypt(message, key)"
   ]
  },
  {
   "cell_type": "code",
   "execution_count": 42,
   "metadata": {},
   "outputs": [
    {
     "name": "stdout",
     "output_type": "stream",
     "text": [
      "âÏÆÆÅãËÇÂÃÎÃÄÍÃÄÞÂÏÈßÄÁÏØéÅÇÏÍÏÞÇÏúÆÏËÙÏ\n"
     ]
    }
   ],
   "source": [
    "print(cypher_text)"
   ]
  },
  {
   "cell_type": "code",
   "execution_count": 45,
   "metadata": {},
   "outputs": [
    {
     "name": "stdout",
     "output_type": "stream",
     "text": [
      "226\n",
      "â\n"
     ]
    }
   ],
   "source": [
    "print(      ord('H') ^ 170         )\n",
    "print(      chr(ord('H') ^ 170)     )"
   ]
  },
  {
   "cell_type": "markdown",
   "metadata": {},
   "source": [
    "# Decryption"
   ]
  },
  {
   "cell_type": "code",
   "execution_count": 46,
   "metadata": {},
   "outputs": [],
   "source": [
    "def decrypt(msg , key):\n",
    "    \n",
    "    decrypted_message = \"\"\n",
    "    \n",
    "    for c in msg:\n",
    "        \n",
    "        c_bin = ord(c)\n",
    "        c_decrypted = c_bin ^ key\n",
    "        c_decrypted = chr(c_decrypted)\n",
    "        \n",
    "        decrypted_message += c_decrypted\n",
    "        \n",
    "    return decrypted_message"
   ]
  },
  {
   "cell_type": "code",
   "execution_count": 47,
   "metadata": {},
   "outputs": [],
   "source": [
    "key = 170\n",
    "decrypted = decrypt(cypher_text, key)"
   ]
  },
  {
   "cell_type": "code",
   "execution_count": 48,
   "metadata": {},
   "outputs": [
    {
     "name": "stdout",
     "output_type": "stream",
     "text": [
      "Hello, I am hiding in the bunker, Come get me, Please\n"
     ]
    }
   ],
   "source": [
    "print(decrypted)"
   ]
  },
  {
   "cell_type": "markdown",
   "metadata": {},
   "source": [
    "# Breaking The Key"
   ]
  },
  {
   "cell_type": "code",
   "execution_count": 50,
   "metadata": {},
   "outputs": [
    {
     "name": "stdout",
     "output_type": "stream",
     "text": [
      "æËÂÂÁçÏÃÆÇÊÇÀÉÇÀÚÆËÌÛÀÅËÜíÁÃËÉËÚÃËþÂËÏÝË\n"
     ]
    }
   ],
   "source": [
    "# lets try brute forcing it !\n",
    "\n",
    "key = 4\n",
    "decrypted = decrypt(cypher_text, key)\n",
    "print(decrypted)"
   ]
  },
  {
   "cell_type": "code",
   "execution_count": 51,
   "metadata": {},
   "outputs": [
    {
     "name": "stdout",
     "output_type": "stream",
     "text": [
      "Boffe&*C*kg*bcncdm*cd*~bo*hdaox&*Iego*mo~*go&*Zfokyo\n",
      "Cnggd'+B+jf+cbobel+be+cn+i~e`ny'+Hdfn+ln+fn'+[gnjxn\n",
      "@mddg$(A(ie(`alafo(af(|`m(j}fcmz$(Kgem(om|(em$(Xdmi{m\n",
      "Aleef%)@)hd)a`m`gn)`g)}al)k|gbl{%)Jfdl)nl})dl%)Yelhzl\n",
      "Fkbba\".G.oc.fgjg`i.g`.zfk.l{`ek|\".Mack.ikz.ck\".^bko}k\n",
      "Gjcc`#/F/nb/gfkfah/fa/{gj/mzadj}#/L`bj/hj{/bj#/_cjn|j\n",
      "Di``c ,E,ma,dehebk,eb,xdi,nybgi~ ,Ocai,kix,ai ,\\`imi\n",
      "Ehaab!-D-l`-edidcj-dc-yeh-oxcfh!-Nb`h-jhy-`h!-]ahl~h\n",
      "Jgnnm.\"K\"co\"jkfkle\"kl\"vjg\"`wligp.\"Amog\"egv\"og.\"Rngcqg\n",
      "Kfool/#J#bn#kjgjmd#jm#wkf#avmhfq/#@lnf#dfw#nf/#Sofbpf\n",
      "Hello, I am hiding in the bunker, Come get me, Please\n",
      "Idmmn-!H!`l!ihehof!ho!uid!ctojds-!Bnld!fdu!ld-!Qmd`rd\n"
     ]
    }
   ],
   "source": [
    "for key in range(160 , 172):\n",
    "    print(decrypt(cypher_text, key))"
   ]
  },
  {
   "cell_type": "code",
   "execution_count": null,
   "metadata": {},
   "outputs": [],
   "source": []
  }
 ],
 "metadata": {
  "kernelspec": {
   "display_name": "Python 3",
   "language": "python",
   "name": "python3"
  },
  "language_info": {
   "codemirror_mode": {
    "name": "ipython",
    "version": 3
   },
   "file_extension": ".py",
   "mimetype": "text/x-python",
   "name": "python",
   "nbconvert_exporter": "python",
   "pygments_lexer": "ipython3",
   "version": "3.7.6"
  }
 },
 "nbformat": 4,
 "nbformat_minor": 4
}
